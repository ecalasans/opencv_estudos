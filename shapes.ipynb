{
 "cells": [
  {
   "cell_type": "markdown",
   "metadata": {
    "collapsed": true,
    "pycharm": {
     "name": "#%% md\n"
    }
   },
   "source": [
    "# Constructing Basic Shapes in OpenCV#\n"
   ]
  },
  {
   "cell_type": "code",
   "execution_count": 1,
   "outputs": [
    {
     "name": "stdout",
     "output_type": "stream",
     "text": [
      "(228, 230, 7)\n",
      "(125, 125, 125)\n"
     ]
    }
   ],
   "source": [
    "import cv2\n",
    "import constant as ct\n",
    "import jupytercv as jp\n",
    "import numpy as np"
   ],
   "metadata": {
    "collapsed": false,
    "pycharm": {
     "name": "#%%\n"
    }
   }
  },
  {
   "cell_type": "markdown",
   "source": [
    "Criando uma imagem de background para ilustrar o uso das cores"
   ],
   "metadata": {
    "collapsed": false
   }
  },
  {
   "cell_type": "code",
   "execution_count": 2,
   "outputs": [],
   "source": [
    "image = np.zeros((400,400,3), dtype='uint8')\n",
    "image[:] = ct.GRAY\n",
    "\n",
    "#cv2.imshow(\"Tela\", image)\n",
    "#cv2.waitKey(1000)"
   ],
   "metadata": {
    "collapsed": false,
    "pycharm": {
     "name": "#%%\n",
     "is_executing": false
    }
   }
  },
  {
   "cell_type": "markdown",
   "source": [
    "Desenhando linhas com `cv2.line()`\n",
    "\n",
    "`img = line(img, pt1, pt2, color, thickness=1, lineType=8, shift=0)`"
   ],
   "metadata": {
    "collapsed": false
   }
  },
  {
   "cell_type": "code",
   "execution_count": 3,
   "outputs": [
    {
     "data": {
      "text/plain": "3"
     },
     "metadata": {},
     "output_type": "execute_result",
     "execution_count": 3
    }
   ],
   "source": [
    "cv2.line(image, (200,0), (400,400), ct.RED, 3)\n",
    "cv2.line(image, (200,0), (0,400), ct.RED, 3)\n",
    "cv2.line(image, (0,400), (400,400), ct.RED, 3)\n",
    "cv2.line(image, (200,0), (200,400), ct.BLACK, 3)\n",
    "cv2.imshow('linhas', image)\n",
    "cv2.waitKey(0)"
   ],
   "metadata": {
    "collapsed": false,
    "pycharm": {
     "name": "#%%\n",
     "is_executing": false
    }
   }
  },
  {
   "cell_type": "markdown",
   "source": [
    "Desenhando retângulos\n",
    "\n",
    "`img = rectangle(img, pt1, pt2, color, thickness=1, lineType=8, shift=0)`"
   ],
   "metadata": {
    "collapsed": false
   }
  },
  {
   "cell_type": "code",
   "execution_count": 3,
   "outputs": [
    {
     "data": {
      "text/plain": "13"
     },
     "execution_count": 3,
     "metadata": {},
     "output_type": "execute_result"
    }
   ],
   "source": [
    "image = np.zeros((400,400,3), dtype='uint8')\n",
    "image[:] = ct.GRAY\n",
    "\n",
    "cv2.rectangle(image, (10, 50), (60, 300), ct.GREEN, 3)\n",
    "cv2.rectangle(image, (80, 50), (130, 300), ct.BLUE, -1)\n",
    "cv2.rectangle(image, (150, 50), (350, 100), ct.RED, -1) # O negativo desenha sólidos\n",
    "cv2.rectangle(image, (150, 150), (350, 300), ct.CYAN, 10)\n",
    "\n",
    "cv2.imshow('Retangulos', image)\n",
    "cv2.waitKey(0)"
   ],
   "metadata": {
    "collapsed": false,
    "pycharm": {
     "name": "#%%\n"
    }
   }
  },
  {
   "cell_type": "markdown",
   "source": [
    "Desenhando círculos\n",
    "\n",
    "`img = circle(img, center, radius, color, thickness=1, lineType=8, shift=0)`\n"
   ],
   "metadata": {
    "collapsed": false,
    "pycharm": {
     "name": "#%% md\n"
    }
   }
  },
  {
   "cell_type": "code",
   "execution_count": 3,
   "outputs": [
    {
     "data": {
      "text/plain": "13"
     },
     "execution_count": 3,
     "metadata": {},
     "output_type": "execute_result"
    }
   ],
   "source": [
    "image = np.zeros((400,400,3), dtype='uint8')\n",
    "image[:] = ct.GRAY\n",
    "\n",
    "cv2.circle(image, (50, 50), 20, ct.GREEN, 3)\n",
    "cv2.circle(image, (100, 100), 30, ct.BLUE, -1)\n",
    "cv2.circle(image, (200, 200), 40, ct.MAGENTA, 10)\n",
    "cv2.circle(image, (300, 300), 40, ct.CYAN, -1)\n",
    "\n",
    "cv2.imshow('Circulos', image)\n",
    "cv2.waitKey(0)\n"
   ],
   "metadata": {
    "collapsed": false,
    "pycharm": {
     "name": "#%%\n"
    }
   }
  },
  {
   "cell_type": "markdown",
   "source": [
    "## Formas avançadas ##\n"
   ],
   "metadata": {
    "collapsed": false,
    "pycharm": {
     "name": "#%% md\n"
    }
   }
  },
  {
   "cell_type": "code",
   "execution_count": 3,
   "outputs": [],
   "source": [
    "image = np.zeros((300,300,3), dtype='uint8')\n",
    "image[:] = ct.LIGHT_GRAY"
   ],
   "metadata": {
    "collapsed": false,
    "pycharm": {
     "name": "#%%\n"
    }
   }
  },
  {
   "cell_type": "markdown",
   "source": [
    "Clip Line\n",
    "\n",
    "`retval, pt1, pt2 = clipLine(imgRect, pt1, pt2)"
   ],
   "metadata": {
    "collapsed": false
   }
  },
  {
   "cell_type": "code",
   "execution_count": 4,
   "outputs": [
    {
     "data": {
      "text/plain": "13"
     },
     "execution_count": 4,
     "metadata": {},
     "output_type": "execute_result"
    }
   ],
   "source": [
    "cv2.line(image, (0, 0), (300, 300), ct.GREEN, 3)\n",
    "cv2.rectangle(image, (0, 0), (100, 100), ct.BLUE, 3)\n",
    "ret, p1, p2 = cv2.clipLine((0, 0, 100, 100), (0, 0), (300, 300))\n",
    "\n",
    "if ret:\n",
    "    cv2.line(image, p1, p2, ct.YELLOW, 3)\n",
    "\n",
    "cv2.imshow('clipline', image)\n",
    "cv2.waitKey(0)"
   ],
   "metadata": {
    "collapsed": false,
    "pycharm": {
     "name": "#%%\n"
    }
   }
  },
  {
   "cell_type": "markdown",
   "source": [
    "Setas\n",
    "\n",
    "`cv.arrowedLine(img, pt1, pt2, color, thickness=1, lineType=8, shift=0, tipLength=0.1)`"
   ],
   "metadata": {
    "collapsed": false
   }
  },
  {
   "cell_type": "code",
   "execution_count": 2,
   "outputs": [
    {
     "data": {
      "text/plain": "13"
     },
     "execution_count": 2,
     "metadata": {},
     "output_type": "execute_result"
    }
   ],
   "source": [
    "image = np.zeros((300,300,3), dtype='uint8')\n",
    "image[:] = ct.LIGHT_GRAY\n",
    "\n",
    "cv2.arrowedLine(image, (50, 50), (200, 50), ct.RED, 3, 8, 0, 0.1)\n",
    "cv2.arrowedLine(image, (50, 120), (200, 120), ct.GREEN, 3, cv2.LINE_AA, 0, 0.3)\n",
    "cv2.arrowedLine(image, (50, 200), (200, 200), ct.BLUE, 3, 8, 0, 0.3)\n",
    "\n",
    "cv2.imshow('setas', image)\n",
    "cv2.waitKey(0)"
   ],
   "metadata": {
    "collapsed": false,
    "pycharm": {
     "name": "#%%\n"
    }
   }
  },
  {
   "cell_type": "markdown",
   "source": [
    "Elipses\n",
    "\n",
    "`cv2.ellipse(img, center, axes, angle, startAngle, endAngle, color, thickness=1, lineType=8, shift=0)`"
   ],
   "metadata": {
    "collapsed": false
   }
  },
  {
   "cell_type": "code",
   "execution_count": null,
   "outputs": [],
   "source": [
    "image = np.zeros((300,300,3), dtype='uint8')\n",
    "image[:] = ct.LIGHT_GRAY\n",
    "\n",
    "cv2.ellipse(image, (80, 80), (60, 40), 0, 0, 360, ct.RED, -1)\n",
    "cv2.ellipse(image, (80, 200), (80, 180), 0, 0, 360, ct.GREEN, 3)\n",
    "cv2.ellipse(image, (80, 200), (10, 40), 0, 0, 360, ct.BLUE, 3)\n",
    "cv2.ellipse(image, (200, 200), (10, 40), 0, 0, 180, ct.YELLOW, 3)\n",
    "cv2.ellipse(image, (200, 100), (10, 40), 0, 0, 270, ct.CYAN, 3)\n",
    "#cv2.ellipse(image, (250, 250), (30, 30), 0, 0, 360, ct.RAND, 3)\n",
    "cv2.ellipse(image, (250, 100), (20, 40), 45, 0, 360, ct.MAGENTA, 3)\n",
    "\n",
    "cv2.imshow('Elipses', image)\n",
    "cv2.waitKey(0)"
   ],
   "metadata": {
    "collapsed": false,
    "pycharm": {
     "name": "#%%\n",
     "is_executing": true
    }
   }
  },
  {
   "cell_type": "markdown",
   "source": [
    "Polígonos\n",
    "\n",
    "`cv2.polylines(img, pts, isClosed, color, thickness=1, lineType=8, shift=0)`"
   ],
   "metadata": {
    "collapsed": false
   }
  },
  {
   "cell_type": "code",
   "execution_count": 5,
   "outputs": [
    {
     "name": "stdout",
     "output_type": "stream",
     "text": [
      "[[250   5]\n",
      " [220  80]\n",
      " [280  80]]\n",
      "[[[250   5]]\n",
      "\n",
      " [[220  80]]\n",
      "\n",
      " [[280  80]]]\n",
      "shape of pts '(3, 1, 2)'\n"
     ]
    },
    {
     "data": {
      "text/plain": "13"
     },
     "execution_count": 5,
     "metadata": {},
     "output_type": "execute_result"
    }
   ],
   "source": [
    "image = np.zeros((300,300,3), dtype='uint8')\n",
    "image[:] = ct.LIGHT_GRAY\n",
    "\n",
    "# These points define a triangle\n",
    "pts = np.array([[250, 5], [220, 80], [280, 80]], np.int32)\n",
    "print(pts)\n",
    "# Reshape to shape (number_vertex, 1, 2)\n",
    "pts = pts.reshape((-1, 1, 2))\n",
    "print(pts)\n",
    "# Print the shapes: this line is not necessary, only for visualization\n",
    "print(\"shape of pts '{}'\".format(pts.shape))\n",
    "# this gives: shape of pts '(3, 1, 2)'\n",
    "\n",
    "cv2.polylines(image, [pts], isClosed=True, color=ct.GREEN, thickness=3, lineType=8, shift=0)\n",
    "\n",
    "cv2.imshow('polígonos', image)\n",
    "cv2.waitKey(0)\n"
   ],
   "metadata": {
    "collapsed": false,
    "pycharm": {
     "name": "#%%\n"
    }
   }
  },
  {
   "cell_type": "markdown",
   "source": [
    "## Eventos do mouse com OpenCV ##\n",
    "\n",
    "cv2.setMouseCallback(windowName, onMouse, param=None)"
   ],
   "metadata": {
    "collapsed": false
   }
  },
  {
   "cell_type": "code",
   "execution_count": 2,
   "outputs": [],
   "source": [
    "'''\n",
    "def eventMouseFunc(event, x, y, flags, param):\n",
    "    if event == cv2.EVENT_RBUTTONDBLCLK:\n",
    "        print(\"{] e {}\".format(x, y))\n",
    "'''\n",
    "\n",
    "\n",
    "starwars = cv2.imread('starwars.jpg')\n",
    "\n",
    "cv2.imshow(\"starwars\", starwars)\n",
    "#cv2.setMouseCallback('starwars', eventMouseFunc)\n",
    "cv2.waitKey(0)\n"
   ],
   "metadata": {
    "collapsed": false,
    "pycharm": {
     "name": "#%%\n"
    }
   }
  }
 ],
 "metadata": {
  "kernelspec": {
   "display_name": "Python 3",
   "language": "python",
   "name": "python3"
  },
  "language_info": {
   "codemirror_mode": {
    "name": "ipython",
    "version": 2
   },
   "file_extension": ".py",
   "mimetype": "text/x-python",
   "name": "python",
   "nbconvert_exporter": "python",
   "pygments_lexer": "ipython2",
   "version": "2.7.6"
  }
 },
 "nbformat": 4,
 "nbformat_minor": 0
}